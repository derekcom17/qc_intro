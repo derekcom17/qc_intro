{
 "cells": [
  {
   "cell_type": "code",
   "execution_count": 1,
   "id": "4afc8ac9",
   "metadata": {},
   "outputs": [],
   "source": [
    "import time\n",
    "import datetime\n",
    "import math\n",
    "import numpy as np\n",
    "%matplotlib notebook\n",
    "import matplotlib.pyplot as plt\n",
    "from qiskit import QuantumCircuit, ClassicalRegister, QuantumRegister\n",
    "from qiskit.circuit.library.arithmetic import *\n",
    "from qiskit import BasicAer # for simulating circuits\n",
    "from qiskit.tools.visualization import plot_histogram\n",
    "from qiskit import execute\n",
    "\n",
    "from qiskit.utils import QuantumInstance\n",
    "from qiskit.algorithms import Shor"
   ]
  },
  {
   "cell_type": "code",
   "execution_count": 122,
   "id": "4244122f",
   "metadata": {},
   "outputs": [
    {
     "name": "stdout",
     "output_type": "stream",
     "text": [
      "24631897\n",
      "2\n"
     ]
    }
   ],
   "source": [
    "N = 24631897\n",
    "a = 2\n",
    "\n",
    "# implement something to generate a?\n",
    "\n",
    "print(N)    \n",
    "print(a)"
   ]
  },
  {
   "cell_type": "code",
   "execution_count": 123,
   "id": "0fc1ba18",
   "metadata": {},
   "outputs": [
    {
     "ename": "KeyboardInterrupt",
     "evalue": "",
     "output_type": "error",
     "traceback": [
      "\u001b[1;31m---------------------------------------------------------------------------\u001b[0m",
      "\u001b[1;31mKeyboardInterrupt\u001b[0m                         Traceback (most recent call last)",
      "\u001b[1;32m~\\AppData\\Local\\Temp/ipykernel_50648/3644448074.py\u001b[0m in \u001b[0;36m<module>\u001b[1;34m\u001b[0m\n\u001b[0;32m      4\u001b[0m \u001b[0mr\u001b[0m \u001b[1;33m=\u001b[0m \u001b[1;36m1\u001b[0m\u001b[1;33m\u001b[0m\u001b[1;33m\u001b[0m\u001b[0m\n\u001b[0;32m      5\u001b[0m \u001b[1;32mwhile\u001b[0m \u001b[1;33m(\u001b[0m\u001b[1;33m(\u001b[0m\u001b[0mremainder\u001b[0m \u001b[1;33m==\u001b[0m \u001b[1;36m0\u001b[0m\u001b[1;33m)\u001b[0m \u001b[1;32mor\u001b[0m \u001b[1;33m(\u001b[0m\u001b[0mremainder\u001b[0m \u001b[1;33m!=\u001b[0m \u001b[1;36m1\u001b[0m\u001b[1;33m)\u001b[0m\u001b[1;33m)\u001b[0m\u001b[1;33m:\u001b[0m\u001b[1;33m\u001b[0m\u001b[1;33m\u001b[0m\u001b[0m\n\u001b[1;32m----> 6\u001b[1;33m     \u001b[0mremainder\u001b[0m \u001b[1;33m=\u001b[0m \u001b[1;33m(\u001b[0m\u001b[0ma\u001b[0m\u001b[1;33m**\u001b[0m\u001b[0mr\u001b[0m\u001b[1;33m)\u001b[0m \u001b[1;33m%\u001b[0m \u001b[0mN\u001b[0m\u001b[1;33m\u001b[0m\u001b[1;33m\u001b[0m\u001b[0m\n\u001b[0m\u001b[0;32m      7\u001b[0m     \u001b[0mr\u001b[0m \u001b[1;33m+=\u001b[0m \u001b[1;36m1\u001b[0m\u001b[1;33m\u001b[0m\u001b[1;33m\u001b[0m\u001b[0m\n\u001b[0;32m      8\u001b[0m \u001b[0mr\u001b[0m \u001b[1;33m-=\u001b[0m \u001b[1;36m1\u001b[0m\u001b[1;33m\u001b[0m\u001b[1;33m\u001b[0m\u001b[0m\n",
      "\u001b[1;31mKeyboardInterrupt\u001b[0m: "
     ]
    }
   ],
   "source": [
    "start_time = time.time()\n",
    "\n",
    "remainder = 0\n",
    "r = 1\n",
    "while ((remainder == 0) or (remainder != 1)):\n",
    "    remainder = (a**r) % N\n",
    "    r += 1\n",
    "r -= 1\n",
    "\n",
    "elapsed_time = time.time() - start_time\n",
    "print(\"r=\", r, \"remainder=\", remainder)\n",
    "print(\"Elapsed time:\", datetime.timedelta(seconds=elapsed_time))"
   ]
  },
  {
   "cell_type": "code",
   "execution_count": 120,
   "id": "bbd0ecae",
   "metadata": {},
   "outputs": [],
   "source": [
    "if (r % 2 == 0):\n",
    "    x = a**(int(r/2)) % N\n",
    "else:\n",
    "    print(\"Try another a\")"
   ]
  },
  {
   "cell_type": "code",
   "execution_count": 121,
   "id": "2589c695",
   "metadata": {},
   "outputs": [
    {
     "name": "stdout",
     "output_type": "stream",
     "text": [
      "gcd(x+1,N): 1601\n",
      "gcd(x-1,N): 853\n"
     ]
    }
   ],
   "source": [
    "if (x + 1 != 0 % N):\n",
    "    x = int(x)\n",
    "    print(\"gcd(x+1,N):\", math.gcd(x+1,N))\n",
    "    print(\"gcd(x-1,N):\", math.gcd(x-1,N))\n",
    "else:\n",
    "    print(\"Try another a\")"
   ]
  },
  {
   "cell_type": "code",
   "execution_count": null,
   "id": "2cbc4cc1",
   "metadata": {},
   "outputs": [],
   "source": []
  },
  {
   "cell_type": "code",
   "execution_count": null,
   "id": "47a31a83",
   "metadata": {},
   "outputs": [],
   "source": []
  }
 ],
 "metadata": {
  "kernelspec": {
   "display_name": "Python 3 (ipykernel)",
   "language": "python",
   "name": "python3"
  },
  "language_info": {
   "codemirror_mode": {
    "name": "ipython",
    "version": 3
   },
   "file_extension": ".py",
   "mimetype": "text/x-python",
   "name": "python",
   "nbconvert_exporter": "python",
   "pygments_lexer": "ipython3",
   "version": "3.9.7"
  }
 },
 "nbformat": 4,
 "nbformat_minor": 5
}
